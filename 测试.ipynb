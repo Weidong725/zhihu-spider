{
 "metadata": {
  "language_info": {
   "codemirror_mode": {
    "name": "ipython",
    "version": 3
   },
   "file_extension": ".py",
   "mimetype": "text/x-python",
   "name": "python",
   "nbconvert_exporter": "python",
   "pygments_lexer": "ipython3",
   "version": "3.7.0-final"
  },
  "orig_nbformat": 2,
  "kernelspec": {
   "name": "python_defaultSpec_1599563968944",
   "display_name": "Python 3.7.0 64-bit ('py3.7.0': conda)"
  }
 },
 "nbformat": 4,
 "nbformat_minor": 2,
 "cells": [
  {
   "cell_type": "code",
   "execution_count": 21,
   "metadata": {},
   "outputs": [],
   "source": [
    "from snownlp import SnowNLP"
   ]
  },
  {
   "cell_type": "code",
   "execution_count": 22,
   "metadata": {},
   "outputs": [],
   "source": [
    "t1 = '如何看待半藏森林复出？'\n",
    "t2 = '其实，智商都是爹妈给的，性吸引力才是后天能够凭借自己的努力去争取的东西。可惜，有太多的人，对“人可以通过自己的努力逆天改命考上好大学”深信不疑，却从未反抗过“你生来就注定是个tiny yellow penis”。兄弟们，姐妹们。四马路钢哥也好，半藏森林也好，他们的那套把戏并不难，但你得学。学会了那套把戏，生活中的四马路钢哥和半藏森林，才不会欺负你。'\n"
   ]
  },
  {
   "cell_type": "code",
   "execution_count": 23,
   "metadata": {},
   "outputs": [
    {
     "output_type": "execute_result",
     "data": {
      "text/plain": "['他们的那套把戏并不难', '生活中的四马路钢哥和半藏森林', '对“人可以通过自己的努力逆天改命考上好大学”深信不疑']"
     },
     "metadata": {},
     "execution_count": 23
    }
   ],
   "source": [
    "s=SnowNLP(t2)\n",
    "t3 = s.summary(limit=3)\n",
    "t3"
   ]
  },
  {
   "cell_type": "code",
   "execution_count": 24,
   "metadata": {
    "tags": []
   },
   "outputs": [
    {
     "output_type": "stream",
     "name": "stdout",
     "text": "0.426602\n0.626692\n0.600397\n"
    }
   ],
   "source": [
    "from aip import AipNlp\n",
    "APP_ID = '20130279'\n",
    "API_KEY = 'cXc07GWejXBvRD11r1kmRiTD'\n",
    "SECRET_KEY = '9owFYcIXH7QiBT1GI9iPj2niqtcaH4G2'\n",
    "client = AipNlp(APP_ID, API_KEY, SECRET_KEY)\n",
    "for i in t3:\n",
    "    score = client.simnet(t1, i).get('score')\n",
    "    print(score)"
   ]
  },
  {
   "cell_type": "code",
   "execution_count": 37,
   "metadata": {
    "tags": []
   },
   "outputs": [],
   "source": [
    "def ppl_values(content):\n",
    "    import re\n",
    "    import numpy as np \n",
    "    from aip import AipNlp\n",
    "    from pprint import pprint\n",
    "    APP_ID = '20130279'\n",
    "    API_KEY = 'cXc07GWejXBvRD11r1kmRiTD'\n",
    "    SECRET_KEY = '9owFYcIXH7QiBT1GI9iPj2niqtcaH4G2'\n",
    "    client = AipNlp(APP_ID, API_KEY, SECRET_KEY)\n",
    "    pattern = r'。|！|？'\n",
    "    sentence_list = re.split(pattern,content)\n",
    "    count_list = []#每句话的字数列表\n",
    "    ppl_list = []#每句话的ppl值\n",
    "    for sen in sentence_list:\n",
    "        ppl =  client.dnnlm(sen).get('ppl',0)\n",
    "        ppl_list.append(ppl)\n",
    "        count_list.append(len(sen))\n",
    "    avg_length = round(np.mean(count_list))\n",
    "    avg_ppl = round(np.mean(ppl_list))\n",
    "    return avg_length,avg_ppl"
   ]
  },
  {
   "cell_type": "code",
   "execution_count": 39,
   "metadata": {},
   "outputs": [
    {
     "output_type": "execute_result",
     "data": {
      "text/plain": "43"
     },
     "metadata": {},
     "execution_count": 39
    }
   ],
   "source": [
    "ppl_values('飞桨(PaddlePaddle)是集深度学习核心框架、工具组件和服务平台为一体的技术先进、功能完备的开源深度学习平台，已被中国企业广泛使用，深度契合企业应用需求，拥有活跃的开发者社区生态。提供丰富的官方支持模型集合，并推出全类型的高性能部署和集成方案供开发者使用。')"
   ]
  },
  {
   "cell_type": "code",
   "execution_count": 5,
   "metadata": {},
   "outputs": [
    {
     "output_type": "execute_result",
     "data": {
      "text/plain": "0"
     },
     "metadata": {},
     "execution_count": 5
    }
   ],
   "source": [
    "import collections\n",
    "cc = collections.Counter(t2)\n",
    "cc['0']"
   ]
  },
  {
   "cell_type": "code",
   "execution_count": 19,
   "metadata": {},
   "outputs": [],
   "source": [
    "from aip import AipNlp\n",
    "APP_ID = '20130279'\n",
    "API_KEY = 'cXc07GWejXBvRD11r1kmRiTD'\n",
    "SECRET_KEY = '9owFYcIXH7QiBT1GI9iPj2niqtcaH4G2'\n",
    "client = AipNlp(APP_ID, API_KEY, SECRET_KEY)"
   ]
  },
  {
   "cell_type": "code",
   "execution_count": null,
   "metadata": {},
   "outputs": [],
   "source": []
  }
 ]
}